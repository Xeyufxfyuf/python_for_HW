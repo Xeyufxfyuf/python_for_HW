{
 "cells": [
  {
   "cell_type": "markdown",
   "metadata": {
    "id": "9ngpqNFm8w1a"
   },
   "source": [
    "# Домашнє завдання до теми \"Основи роботи з рядками та математичні операції\""
   ]
  },
  {
   "cell_type": "markdown",
   "metadata": {
    "id": "DEkQSeSyTum-"
   },
   "source": [
    "1. Створіть змінні `a`, `b`, `c` та `d`, задайте їм значення відповідно 101, 210, 111, 402, та обчисліть з допомогою Python наступний вираз:  $$ \\frac{(a+b) * c}{d} $$\n",
    "\n",
    "**Важливо**: тут ми маємо обчислити значення саме з використанням змінних, а не просто чисел, як би ми робили у калькуряторі. Змінні потрібні аби за бажання ми могли змінити їх значення та не переписувати код обчислення виразу, бо він буде працювати для різних значень змінних."
   ]
  },
  {
   "cell_type": "code",
   "execution_count": 1,
   "metadata": {
    "execution": {
     "iopub.execute_input": "2025-10-27T11:15:47.207937Z",
     "iopub.status.busy": "2025-10-27T11:15:47.206338Z",
     "iopub.status.idle": "2025-10-27T11:15:47.225575Z",
     "shell.execute_reply": "2025-10-27T11:15:47.224543Z",
     "shell.execute_reply.started": "2025-10-27T11:15:47.207825Z"
    },
    "id": "u1ICQq5L3eKH"
   },
   "outputs": [
    {
     "data": {
      "text/plain": [
       "85.8731343283582"
      ]
     },
     "execution_count": 1,
     "metadata": {},
     "output_type": "execute_result"
    }
   ],
   "source": [
    "a = 101\n",
    "b = 210\n",
    "c = 111\n",
    "d = 402\n",
    "\n",
    "((a + b)*c)/d"
   ]
  },
  {
   "cell_type": "markdown",
   "metadata": {
    "id": "FnBVPt7G3bcR"
   },
   "source": [
    "Очікувана відповідь: 85.8731343283582"
   ]
  },
  {
   "cell_type": "markdown",
   "metadata": {
    "id": "HI3eEYZRT4Cn"
   },
   "source": [
    "2. Якою буде остача від ділення числа 11283 на 89? Обчисліть з допомогою Python."
   ]
  },
  {
   "cell_type": "code",
   "execution_count": 2,
   "metadata": {
    "execution": {
     "iopub.execute_input": "2025-10-27T11:17:20.128515Z",
     "iopub.status.busy": "2025-10-27T11:17:20.127057Z",
     "iopub.status.idle": "2025-10-27T11:17:20.141805Z",
     "shell.execute_reply": "2025-10-27T11:17:20.140384Z",
     "shell.execute_reply.started": "2025-10-27T11:17:20.128434Z"
    },
    "id": "ejZc3ng_TpgY"
   },
   "outputs": [
    {
     "data": {
      "text/plain": [
       "69"
      ]
     },
     "execution_count": 2,
     "metadata": {},
     "output_type": "execute_result"
    }
   ],
   "source": [
    "11283 % 89"
   ]
  },
  {
   "cell_type": "markdown",
   "metadata": {
    "id": "RO02CqdqT9oG"
   },
   "source": [
    "3. Скільки цілих разів поміститься число 89 в 11283? (Або що те саме: який буде результат цілочисельного ділення 11283 на 89?)"
   ]
  },
  {
   "cell_type": "code",
   "execution_count": 3,
   "metadata": {
    "execution": {
     "iopub.execute_input": "2025-10-27T11:18:26.631584Z",
     "iopub.status.busy": "2025-10-27T11:18:26.630431Z",
     "iopub.status.idle": "2025-10-27T11:18:26.644701Z",
     "shell.execute_reply": "2025-10-27T11:18:26.642048Z",
     "shell.execute_reply.started": "2025-10-27T11:18:26.631526Z"
    },
    "id": "KEUb9lO5T_PI"
   },
   "outputs": [
    {
     "data": {
      "text/plain": [
       "126"
      ]
     },
     "execution_count": 3,
     "metadata": {},
     "output_type": "execute_result"
    }
   ],
   "source": [
    "11283 // 89"
   ]
  },
  {
   "cell_type": "markdown",
   "metadata": {
    "id": "5fnIPumiT_rt"
   },
   "source": [
    "4. Запишіть у змінну `name` ваше імʼя."
   ]
  },
  {
   "cell_type": "code",
   "execution_count": 4,
   "metadata": {
    "execution": {
     "iopub.execute_input": "2025-10-27T11:18:49.128242Z",
     "iopub.status.busy": "2025-10-27T11:18:49.127899Z",
     "iopub.status.idle": "2025-10-27T11:18:49.131658Z",
     "shell.execute_reply": "2025-10-27T11:18:49.130635Z",
     "shell.execute_reply.started": "2025-10-27T11:18:49.128220Z"
    },
    "id": "xP7Mbq45UFlV"
   },
   "outputs": [],
   "source": [
    "name = 'Olha'"
   ]
  },
  {
   "cell_type": "markdown",
   "metadata": {
    "id": "fR9TqY79UNDL"
   },
   "source": [
    "5. Запишіть у змінну `surname` ваше прізвище."
   ]
  },
  {
   "cell_type": "code",
   "execution_count": 5,
   "metadata": {
    "execution": {
     "iopub.execute_input": "2025-10-27T11:19:13.009182Z",
     "iopub.status.busy": "2025-10-27T11:19:13.007925Z",
     "iopub.status.idle": "2025-10-27T11:19:13.017486Z",
     "shell.execute_reply": "2025-10-27T11:19:13.015827Z",
     "shell.execute_reply.started": "2025-10-27T11:19:13.009116Z"
    },
    "id": "0qHjyMyvUOM1"
   },
   "outputs": [],
   "source": [
    "surname = 'Arn'"
   ]
  },
  {
   "cell_type": "markdown",
   "metadata": {
    "id": "zqKncQLwUOxh"
   },
   "source": [
    "6. Сконкатенуйте імʼя та прізвище в одну фразу через пробіл. Запишіть результат у нову змінну `name_surname` та виведіть результат на екран.  "
   ]
  },
  {
   "cell_type": "code",
   "execution_count": 7,
   "metadata": {
    "execution": {
     "iopub.execute_input": "2025-10-27T11:20:26.631656Z",
     "iopub.status.busy": "2025-10-27T11:20:26.629616Z",
     "iopub.status.idle": "2025-10-27T11:20:26.642743Z",
     "shell.execute_reply": "2025-10-27T11:20:26.641639Z",
     "shell.execute_reply.started": "2025-10-27T11:20:26.631495Z"
    },
    "id": "8E-blvN-UTPg"
   },
   "outputs": [
    {
     "name": "stdout",
     "output_type": "stream",
     "text": [
      "Olha Arn\n"
     ]
    }
   ],
   "source": [
    "name_surname = name + ' ' + surname\n",
    "\n",
    "print(name_surname)"
   ]
  },
  {
   "cell_type": "markdown",
   "metadata": {
    "id": "_Unl7EXlUgYn"
   },
   "source": [
    "Очікувана відповідь (тільки з вашими даними): 'Hanna Pylieva'"
   ]
  },
  {
   "cell_type": "markdown",
   "metadata": {
    "id": "z-3FI0IrUT0U"
   },
   "source": [
    "7. Зробіть усі літери змінної `name_surname` заглавними використовуючи метод рядків в Python:"
   ]
  },
  {
   "cell_type": "code",
   "execution_count": 8,
   "metadata": {
    "execution": {
     "iopub.execute_input": "2025-10-27T11:23:57.206463Z",
     "iopub.status.busy": "2025-10-27T11:23:57.204963Z",
     "iopub.status.idle": "2025-10-27T11:23:57.218014Z",
     "shell.execute_reply": "2025-10-27T11:23:57.216577Z",
     "shell.execute_reply.started": "2025-10-27T11:23:57.206386Z"
    },
    "id": "9ahIwyT5UblY"
   },
   "outputs": [
    {
     "name": "stdout",
     "output_type": "stream",
     "text": [
      "OLHA ARN\n"
     ]
    }
   ],
   "source": [
    "print(name_surname.upper())"
   ]
  },
  {
   "cell_type": "markdown",
   "metadata": {
    "id": "6PDcqfmdUcLo"
   },
   "source": [
    "Очікувана відповідь (тільки з вашими даними): 'HANNA PYLIEVA'"
   ]
  },
  {
   "cell_type": "markdown",
   "metadata": {
    "id": "qNl8KxeXUtnL"
   },
   "source": [
    "8. Виведіть третю літеру вашого `name_surname`. Тут уважно, треба саме третя літера. Згадайте, з якого значення починається індексування значень в Python."
   ]
  },
  {
   "cell_type": "code",
   "execution_count": 9,
   "metadata": {
    "execution": {
     "iopub.execute_input": "2025-10-27T11:27:22.437350Z",
     "iopub.status.busy": "2025-10-27T11:27:22.436164Z",
     "iopub.status.idle": "2025-10-27T11:27:22.447712Z",
     "shell.execute_reply": "2025-10-27T11:27:22.446543Z",
     "shell.execute_reply.started": "2025-10-27T11:27:22.437274Z"
    },
    "id": "Tp7stqAhUvJz"
   },
   "outputs": [
    {
     "data": {
      "text/plain": [
       "'h'"
      ]
     },
     "execution_count": 9,
     "metadata": {},
     "output_type": "execute_result"
    }
   ],
   "source": [
    "name_surname[2]"
   ]
  },
  {
   "cell_type": "markdown",
   "metadata": {
    "id": "GYWHqb3UUvqk"
   },
   "source": [
    "Очікувана відповідь (тільки з вашими даними): 'n'"
   ]
  },
  {
   "cell_type": "markdown",
   "metadata": {
    "id": "1f3cc1a7",
    "pycharm": {
     "name": "#%% md\n"
    }
   },
   "source": [
    "9. Виведіть першу та останню літеру вашого прізвища."
   ]
  },
  {
   "cell_type": "code",
   "execution_count": 13,
   "metadata": {
    "execution": {
     "iopub.execute_input": "2025-10-27T11:33:48.286839Z",
     "iopub.status.busy": "2025-10-27T11:33:48.285707Z",
     "iopub.status.idle": "2025-10-27T11:33:48.301139Z",
     "shell.execute_reply": "2025-10-27T11:33:48.299632Z",
     "shell.execute_reply.started": "2025-10-27T11:33:48.286775Z"
    },
    "id": "s1ZgN3xuUyB8"
   },
   "outputs": [
    {
     "data": {
      "text/plain": [
       "('O', 'n')"
      ]
     },
     "execution_count": 13,
     "metadata": {},
     "output_type": "execute_result"
    }
   ],
   "source": [
    "name_surname[0],name_surname[-1]"
   ]
  },
  {
   "cell_type": "markdown",
   "metadata": {
    "id": "KjlFjjhHVAt2"
   },
   "source": [
    "Очікувана відповідь (тільки з вашими даними): ('P', 'a')"
   ]
  },
  {
   "cell_type": "markdown",
   "metadata": {
    "id": "UYLoho3DVMt2"
   },
   "source": [
    "10. Виведіть довжину вашого прізвища."
   ]
  },
  {
   "cell_type": "code",
   "execution_count": 14,
   "metadata": {
    "execution": {
     "iopub.execute_input": "2025-10-27T11:35:27.784830Z",
     "iopub.status.busy": "2025-10-27T11:35:27.783496Z",
     "iopub.status.idle": "2025-10-27T11:35:27.799885Z",
     "shell.execute_reply": "2025-10-27T11:35:27.798244Z",
     "shell.execute_reply.started": "2025-10-27T11:35:27.784751Z"
    },
    "id": "0TPJBh0LVA8q"
   },
   "outputs": [
    {
     "data": {
      "text/plain": [
       "3"
      ]
     },
     "execution_count": 14,
     "metadata": {},
     "output_type": "execute_result"
    }
   ],
   "source": [
    "len(surname)"
   ]
  },
  {
   "cell_type": "markdown",
   "metadata": {
    "id": "9FaxqvVgVRYW"
   },
   "source": [
    "Очікувана відповідь (тільки з вашими даними): 7\n"
   ]
  },
  {
   "cell_type": "markdown",
   "metadata": {
    "id": "JN2wxSlGVVAj"
   },
   "source": [
    "11. Виведіть кількість літер `a` у столиці Мадагаскару `Antananarivo`. Важливо врахувати всі літери, як великі, так і маленькі."
   ]
  },
  {
   "cell_type": "code",
   "execution_count": 15,
   "metadata": {
    "execution": {
     "iopub.execute_input": "2025-10-27T11:44:24.104085Z",
     "iopub.status.busy": "2025-10-27T11:44:24.098715Z",
     "iopub.status.idle": "2025-10-27T11:44:24.115718Z",
     "shell.execute_reply": "2025-10-27T11:44:24.114708Z",
     "shell.execute_reply.started": "2025-10-27T11:44:24.104037Z"
    },
    "id": "LCeHHz9bVUgL"
   },
   "outputs": [
    {
     "data": {
      "text/plain": [
       "4"
      ]
     },
     "execution_count": 15,
     "metadata": {},
     "output_type": "execute_result"
    }
   ],
   "source": [
    "capital_of_madagascar = 'Antananarivo'\n",
    "capital_of_madagascar.upper().count('A')"
   ]
  },
  {
   "cell_type": "markdown",
   "metadata": {
    "id": "Ux4SQiuSVo92"
   },
   "source": [
    "Очікувана відповідь: 4"
   ]
  },
  {
   "cell_type": "markdown",
   "metadata": {
    "id": "mwEs0xnmVtes"
   },
   "source": [
    "12. Створіть рядок `my_string` зі значенням: \"The quick brown fox jumps over the lazy dog!!!\".   \n",
    "Перевірте, чи починається рядок `my_string` з \"The\" і чи закінчується він \"dog!\". Виведіть результати на екран."
   ]
  },
  {
   "cell_type": "code",
   "execution_count": 23,
   "metadata": {
    "execution": {
     "iopub.execute_input": "2025-10-27T11:58:30.388154Z",
     "iopub.status.busy": "2025-10-27T11:58:30.387070Z",
     "iopub.status.idle": "2025-10-27T11:58:30.400821Z",
     "shell.execute_reply": "2025-10-27T11:58:30.398215Z",
     "shell.execute_reply.started": "2025-10-27T11:58:30.388089Z"
    },
    "id": "VlXDNpXcVs59"
   },
   "outputs": [
    {
     "name": "stdout",
     "output_type": "stream",
     "text": [
      "True\n",
      "False\n"
     ]
    }
   ],
   "source": [
    "my_string = 'The quick brown fox jumps over the lazy dog!!!'\n",
    "print(my_string.startswith('The'))\n",
    "print(my_string.endswith('dog!'))"
   ]
  },
  {
   "cell_type": "markdown",
   "metadata": {
    "id": "Yc-UwtqvV_h0"
   },
   "source": [
    "13. Розділіть рядок `my_string` на список окремих слів, а потім з'єднайте всі слова через нижнє підкреслювання. Виведіть результат на екран."
   ]
  },
  {
   "cell_type": "code",
   "execution_count": 24,
   "metadata": {
    "execution": {
     "iopub.execute_input": "2025-10-27T11:58:37.081546Z",
     "iopub.status.busy": "2025-10-27T11:58:37.081236Z",
     "iopub.status.idle": "2025-10-27T11:58:37.087573Z",
     "shell.execute_reply": "2025-10-27T11:58:37.085056Z",
     "shell.execute_reply.started": "2025-10-27T11:58:37.081523Z"
    },
    "id": "m5I48Ii-WDSK"
   },
   "outputs": [
    {
     "name": "stdout",
     "output_type": "stream",
     "text": [
      "The_quick_brown_fox_jumps_over_the_lazy_dog!!!\n"
     ]
    }
   ],
   "source": [
    "my_string = my_string.split(' ')\n",
    "print(('_').join(my_string))"
   ]
  },
  {
   "cell_type": "markdown",
   "metadata": {
    "id": "UqvD1_jIXRhx"
   },
   "source": [
    "Очікуваний результат: `The_quick_brown_fox_jumps_over_the_lazy_dog!!!`"
   ]
  }
 ],
 "metadata": {
  "colab": {
   "provenance": []
  },
  "kernelspec": {
   "display_name": "Python 3 (ipykernel)",
   "language": "python",
   "name": "python3"
  },
  "language_info": {
   "codemirror_mode": {
    "name": "ipython",
    "version": 3
   },
   "file_extension": ".py",
   "mimetype": "text/x-python",
   "name": "python",
   "nbconvert_exporter": "python",
   "pygments_lexer": "ipython3",
   "version": "3.12.3"
  }
 },
 "nbformat": 4,
 "nbformat_minor": 4
}
