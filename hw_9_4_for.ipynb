{
 "cells": [
  {
   "cell_type": "markdown",
   "metadata": {
    "id": "W8lqt6zd9axA"
   },
   "source": [
    "#Домашнє завдання до теми \"Цикл for\""
   ]
  },
  {
   "cell_type": "markdown",
   "metadata": {
    "id": "iXzoNTu604kH"
   },
   "source": [
    "0. Розігрів. Напишіть цикл, який виводить на екран числа від 1 до 10 включно."
   ]
  },
  {
   "cell_type": "code",
   "execution_count": 2,
   "metadata": {
    "execution": {
     "iopub.execute_input": "2025-10-30T10:23:29.088499Z",
     "iopub.status.busy": "2025-10-30T10:23:29.087400Z",
     "iopub.status.idle": "2025-10-30T10:23:29.100625Z",
     "shell.execute_reply": "2025-10-30T10:23:29.099493Z",
     "shell.execute_reply.started": "2025-10-30T10:23:29.088433Z"
    },
    "id": "zpwypSSp0MVm"
   },
   "outputs": [
    {
     "name": "stdout",
     "output_type": "stream",
     "text": [
      "1\n",
      "2\n",
      "3\n",
      "4\n",
      "5\n",
      "6\n",
      "7\n",
      "8\n",
      "9\n",
      "10\n"
     ]
    }
   ],
   "source": [
    "for i in range(1,11):\n",
    "    print(i)"
   ]
  },
  {
   "cell_type": "markdown",
   "metadata": {
    "id": "JmWR8uze094H"
   },
   "source": [
    "**Початок покладено!**"
   ]
  },
  {
   "cell_type": "markdown",
   "metadata": {
    "id": "OJX3yG-Blplu"
   },
   "source": [
    "1. Задайте список `numbers`, який містить значення від 0 до 9 включно. Використовуючи цикл `for`, обчисліть суму елементів в створеному списку та виведіть фінальну суму на екран."
   ]
  },
  {
   "cell_type": "code",
   "execution_count": 6,
   "metadata": {
    "execution": {
     "iopub.execute_input": "2025-10-30T10:41:45.369607Z",
     "iopub.status.busy": "2025-10-30T10:41:45.368730Z",
     "iopub.status.idle": "2025-10-30T10:41:45.377562Z",
     "shell.execute_reply": "2025-10-30T10:41:45.376203Z",
     "shell.execute_reply.started": "2025-10-30T10:41:45.369561Z"
    }
   },
   "outputs": [
    {
     "name": "stdout",
     "output_type": "stream",
     "text": [
      "45\n"
     ]
    }
   ],
   "source": [
    "numbers = [0,1,2,3,4,5,6,7,8,9]\n",
    "sum_of_numbers = 0\n",
    "\n",
    "for number in numbers:\n",
    "    sum_of_numbers += number\n",
    "\n",
    "print(sum_of_numbers)"
   ]
  },
  {
   "cell_type": "markdown",
   "metadata": {
    "id": "6Tb2Kx_jmD5b"
   },
   "source": [
    "2. Використовуючи цикл  `for` виведіть для кожного елементу списку `numbers`,який ми створили в завданні 1, чи цей елемент дорівнює 5. Тобто після виконання циклу на екрані має бути 10 bool значень."
   ]
  },
  {
   "cell_type": "code",
   "execution_count": 7,
   "metadata": {
    "execution": {
     "iopub.execute_input": "2025-10-30T10:41:48.730336Z",
     "iopub.status.busy": "2025-10-30T10:41:48.729962Z",
     "iopub.status.idle": "2025-10-30T10:41:48.735175Z",
     "shell.execute_reply": "2025-10-30T10:41:48.733970Z",
     "shell.execute_reply.started": "2025-10-30T10:41:48.730311Z"
    },
    "id": "Ls8ZW8DWuwHC"
   },
   "outputs": [
    {
     "name": "stdout",
     "output_type": "stream",
     "text": [
      "False\n",
      "False\n",
      "False\n",
      "False\n",
      "False\n",
      "True\n",
      "False\n",
      "False\n",
      "False\n",
      "False\n"
     ]
    }
   ],
   "source": [
    "for number in numbers:\n",
    "    print(f'{number == 5}')"
   ]
  },
  {
   "cell_type": "markdown",
   "metadata": {
    "id": "ddFE1naOmp7Q"
   },
   "source": [
    "3. Використовуючи цикл  `for` для кожного елементу списку `numbers`, який ми створили в завданні 1, виявіть, чи цей елемент ділиться на 2 без остачі, та запишіть результат у новий список `numbers_divisible_by_2`.\n",
    "\n",
    "Увага! Виконання завдання відрізняється від попереднього тим, що тепер ми результат обчислення на кожній ітерації записуємо у новий список. До того ж ми тут виконуємо іншу математичну операцію.\n",
    "\n",
    "Виведіть фільнальний список `numbers_divisible_by_2` на екран."
   ]
  },
  {
   "cell_type": "code",
   "execution_count": 14,
   "metadata": {
    "execution": {
     "iopub.execute_input": "2025-10-30T10:50:48.742869Z",
     "iopub.status.busy": "2025-10-30T10:50:48.742328Z",
     "iopub.status.idle": "2025-10-30T10:50:48.750252Z",
     "shell.execute_reply": "2025-10-30T10:50:48.748386Z",
     "shell.execute_reply.started": "2025-10-30T10:50:48.742825Z"
    },
    "id": "S2Pk_W12uyDo"
   },
   "outputs": [
    {
     "name": "stdout",
     "output_type": "stream",
     "text": [
      "[True, False, True, False, True, False, True, False, True, False]\n"
     ]
    }
   ],
   "source": [
    "numbers_divisible_by_2 = []\n",
    "for number in numbers:\n",
    "    numbers_divisible_by_2.append(number % 2 == 0)\n",
    "\n",
    "print(numbers_divisible_by_2)\n",
    "    "
   ]
  },
  {
   "cell_type": "markdown",
   "metadata": {
    "id": "cwvpWeVGnUGB"
   },
   "source": [
    "Очікуваний результат: `[True, False, True, False, True, False, True, False, True, False]`"
   ]
  },
  {
   "cell_type": "markdown",
   "metadata": {
    "id": "0rgeGpJ3utVN"
   },
   "source": [
    "4. Задано два списки в клітинці нижче - `a` і `b`. Створіть цикл, результатом якого буде список `result`, що містить елементи типу bool і який фактично каже,\n",
    "\"чи на цьому індексі елементи наших двох списків співпадають\". Приклад:\n",
    "```\n",
    "a = [1, 2, 3, 6]\n",
    "b = [1, 7, 3, 6]\n",
    "# ми виконали поелементне порівняння двох списків і отримали новий список result\n",
    "# result містить наступний результат -> [True, False, True, True]\n",
    "```\n",
    "В кінці виведіть вміст result на екран.\n",
    "\n",
    "<details>\n",
    "<summary>Підказка</summary>\n",
    "\n",
    "Аби порівняти елементи в циклі - треба створити цикл по індексам елементів. Зважаючи, що наші списки - одної довжини, цей підхід дозволить нам отримати чітко те, що треба.\n",
    "\n",
    "**Просунутий варіант.** Альтернативно можна створити цикл, який на кожній ітерації має доступ до двох елементів - по одному з кожного списка, для цього треба скористатись функцією `zip` - приклад [тут](https://realpython.com/python-zip-function/#traversing-lists-in-parallel)\n",
    "</details>\n"
   ]
  },
  {
   "cell_type": "code",
   "execution_count": 15,
   "metadata": {
    "execution": {
     "iopub.execute_input": "2025-10-30T10:55:42.212204Z",
     "iopub.status.busy": "2025-10-30T10:55:42.211131Z",
     "iopub.status.idle": "2025-10-30T10:55:42.243307Z",
     "shell.execute_reply": "2025-10-30T10:55:42.220919Z",
     "shell.execute_reply.started": "2025-10-30T10:55:42.212136Z"
    },
    "id": "IIYG41pWdJiG"
   },
   "outputs": [],
   "source": [
    "a = [64, 93, 60, 95, 66, 9, 15, 55, 77, 28, 74, 100, 13, 1, 85, 48, 66, 65, 59, 32]\n",
    "b = [64, 93, 60, 95, 66, 9, 15, 56, 77, 28, 74, 100, 13, 1, 85, 48, 67, 65, 59, 32]"
   ]
  },
  {
   "cell_type": "code",
   "execution_count": 16,
   "metadata": {
    "execution": {
     "iopub.execute_input": "2025-10-30T10:55:57.557458Z",
     "iopub.status.busy": "2025-10-30T10:55:57.557137Z",
     "iopub.status.idle": "2025-10-30T10:55:57.562329Z",
     "shell.execute_reply": "2025-10-30T10:55:57.561026Z",
     "shell.execute_reply.started": "2025-10-30T10:55:57.557436Z"
    },
    "id": "XgZwTwr4u2lA"
   },
   "outputs": [
    {
     "name": "stdout",
     "output_type": "stream",
     "text": [
      "[True, True, True, True, True, True, True, False, True, True, True, True, True, True, True, True, False, True, True, True]\n"
     ]
    }
   ],
   "source": [
    "result = []\n",
    "for my_list_a, my_list_b in zip(a,b):\n",
    "    result.append(my_list_a == my_list_b)\n",
    "    \n",
    "print(result)"
   ]
  },
  {
   "cell_type": "markdown",
   "metadata": {
    "id": "0Z2cObcTutVO"
   },
   "source": [
    "5. Нижче задано список `numbers`. Виконайте клітинку з його заданням.\n",
    "\n",
    "  Давайте знайдемо середнє арифметичне значення елементів списку `numbers` округлене до 2 цифр після коми та запишемо його у змінну `numbers_mean`. Для цього виконаємо два простих кроки.\n",
    "\n",
    "  1) Знайдіть суму всіх елементів списку `numbers` та запишіть її у змінну `numbers_sum`. Можна з використанням циклу, а можна і без.\n",
    "\n",
    "  2) Обчисліть `numbers_mean` шляхом ділення суми елементів у списку на їх кількість. Кількість елементів в списку - це його довжина.\n",
    "\n",
    "  Виведіть `numbers_mean`, округлений до 2 цифр після коми, на екран.\n",
    "\n",
    "  **Підказка**: округлити число можна з використанням вбудованої функції Python [round()](https://docs.python.org/3/library/functions.html#round)."
   ]
  },
  {
   "cell_type": "code",
   "execution_count": 20,
   "metadata": {
    "execution": {
     "iopub.execute_input": "2025-10-30T11:01:43.721331Z",
     "iopub.status.busy": "2025-10-30T11:01:43.720738Z",
     "iopub.status.idle": "2025-10-30T11:01:43.727524Z",
     "shell.execute_reply": "2025-10-30T11:01:43.725753Z",
     "shell.execute_reply.started": "2025-10-30T11:01:43.721286Z"
    },
    "id": "TwuOmLpeutVO"
   },
   "outputs": [],
   "source": [
    "numbers = [42, 51, 29, 2, 13, 44, 80, 66, 16]"
   ]
  },
  {
   "cell_type": "code",
   "execution_count": 28,
   "metadata": {
    "execution": {
     "iopub.execute_input": "2025-10-30T11:08:18.206930Z",
     "iopub.status.busy": "2025-10-30T11:08:18.205818Z",
     "iopub.status.idle": "2025-10-30T11:08:18.219529Z",
     "shell.execute_reply": "2025-10-30T11:08:18.218159Z",
     "shell.execute_reply.started": "2025-10-30T11:08:18.206883Z"
    },
    "id": "R-qDvKVcu6e1"
   },
   "outputs": [
    {
     "name": "stdout",
     "output_type": "stream",
     "text": [
      "38.11\n"
     ]
    }
   ],
   "source": [
    "numbers_sum = 0\n",
    "for number in numbers:\n",
    "    numbers_sum += number\n",
    "\n",
    "numbers_mean = numbers_sum/ len(numbers)\n",
    "print(round(numbers_mean,2))"
   ]
  },
  {
   "cell_type": "markdown",
   "metadata": {
    "id": "pSdssHuuutVQ"
   },
   "source": [
    "Очікуваний результат: `38.11`"
   ]
  },
  {
   "cell_type": "markdown",
   "metadata": {
    "id": "JsevSvVtutVQ"
   },
   "source": [
    "6. Задано список `a` і елемент `element`. Перевірте програмно чи є в списку `a` елемент `element` з допомогою інструкцій `if ... else`. Виведіть на екран відповідь \"Так, є\", якщо цей елемент в списку присутній, або \"Ні, нема\", якщо його там немає.\n",
    "Важливо це зробити без використання імпортів будь-яких бібліотек.\n",
    "\n",
    "  Тут цикла немає :) Але це завдання - підготовче до наступного."
   ]
  },
  {
   "cell_type": "code",
   "execution_count": 29,
   "metadata": {
    "execution": {
     "iopub.execute_input": "2025-10-30T11:20:15.854480Z",
     "iopub.status.busy": "2025-10-30T11:20:15.853379Z",
     "iopub.status.idle": "2025-10-30T11:20:15.861978Z",
     "shell.execute_reply": "2025-10-30T11:20:15.860437Z",
     "shell.execute_reply.started": "2025-10-30T11:20:15.854417Z"
    },
    "id": "TqkTdlN_utVQ"
   },
   "outputs": [],
   "source": [
    "a = [64, 93, 60, 95, 66, 9, 15, 55, 77, 28, 74, 100, 13, 1, 85, 48, 66, 65, 59, 32]\n",
    "element = 33"
   ]
  },
  {
   "cell_type": "code",
   "execution_count": 35,
   "metadata": {
    "execution": {
     "iopub.execute_input": "2025-10-30T11:32:55.049833Z",
     "iopub.status.busy": "2025-10-30T11:32:55.047971Z",
     "iopub.status.idle": "2025-10-30T11:32:55.060815Z",
     "shell.execute_reply": "2025-10-30T11:32:55.059735Z",
     "shell.execute_reply.started": "2025-10-30T11:32:55.049765Z"
    },
    "id": "aL_76T8pu7fp"
   },
   "outputs": [
    {
     "name": "stdout",
     "output_type": "stream",
     "text": [
      "Так, є\n"
     ]
    }
   ],
   "source": [
    "if element in a:\n",
    "    print('Так, є')\n",
    "else:\n",
    "    print('Ні, нема')        "
   ]
  },
  {
   "cell_type": "markdown",
   "metadata": {
    "id": "QKjmv4j0utVR"
   },
   "source": [
    "7. Тепер у нас не один елемент, а кілька. Вони наведені в змінній `elements`. За допомогою циклу і інструкцій `if ... else` для кожного елемента списку `elements` перевірте, чи він є в списку `a`.\n",
    "Виведіть на екран відповідь \"Так, є елемент <вставити значення елемента>\", якщо елемент в списку присутній, або \"Ні, нема елемента <вставити значення елемента>\", якщо його там немає."
   ]
  },
  {
   "cell_type": "code",
   "execution_count": 36,
   "metadata": {
    "execution": {
     "iopub.execute_input": "2025-10-30T11:33:20.626911Z",
     "iopub.status.busy": "2025-10-30T11:33:20.625754Z",
     "iopub.status.idle": "2025-10-30T11:33:20.635764Z",
     "shell.execute_reply": "2025-10-30T11:33:20.633785Z",
     "shell.execute_reply.started": "2025-10-30T11:33:20.626857Z"
    },
    "id": "TF3nT5TMutVR"
   },
   "outputs": [],
   "source": [
    "elements = [44, 66, 77, 100]"
   ]
  },
  {
   "cell_type": "code",
   "execution_count": 37,
   "metadata": {
    "execution": {
     "iopub.execute_input": "2025-10-30T11:33:25.867699Z",
     "iopub.status.busy": "2025-10-30T11:33:25.867103Z",
     "iopub.status.idle": "2025-10-30T11:33:25.874445Z",
     "shell.execute_reply": "2025-10-30T11:33:25.873089Z",
     "shell.execute_reply.started": "2025-10-30T11:33:25.867655Z"
    },
    "id": "pQD5InOQvG1d"
   },
   "outputs": [
    {
     "name": "stdout",
     "output_type": "stream",
     "text": [
      "Ні, нема елемента 44\n",
      "Tак, є елемент 66\n",
      "Tак, є елемент 77\n",
      "Tак, є елемент 100\n"
     ]
    }
   ],
   "source": [
    "for element in elements:\n",
    "    if element in a:\n",
    "          print(f\"Tак, є елемент {element}\")\n",
    "    else:\n",
    "         print(f\"Ні, нема елемента {element}\")"
   ]
  },
  {
   "cell_type": "code",
   "execution_count": null,
   "metadata": {},
   "outputs": [],
   "source": []
  }
 ],
 "metadata": {
  "colab": {
   "provenance": []
  },
  "kernelspec": {
   "display_name": "Python 3 (ipykernel)",
   "language": "python",
   "name": "python3"
  },
  "language_info": {
   "codemirror_mode": {
    "name": "ipython",
    "version": 3
   },
   "file_extension": ".py",
   "mimetype": "text/x-python",
   "name": "python",
   "nbconvert_exporter": "python",
   "pygments_lexer": "ipython3",
   "version": "3.12.3"
  }
 },
 "nbformat": 4,
 "nbformat_minor": 4
}
