{
 "cells": [
  {
   "cell_type": "markdown",
   "metadata": {
    "id": "15XCoYr0awZ6"
   },
   "source": [
    "#Домашнє завдання до теми \"Цикл while\""
   ]
  },
  {
   "cell_type": "markdown",
   "metadata": {
    "id": "xgCDxF5YhQSa"
   },
   "source": [
    "1. **Лічильник до заданого числа.**\n",
    "   Завдання:\n",
    "     - Створіть цикл `while`, щоб він лічив від 1 до заданого числа в змінній `limit` (включно).\n",
    "     - Виведіть кожне число, яке проходить лічильник, на екран.\n",
    "     - В кінці виведіть повідомлення \"Кінець розрахунку!\".\n"
   ]
  },
  {
   "cell_type": "code",
   "execution_count": 7,
   "metadata": {
    "execution": {
     "iopub.execute_input": "2025-10-30T19:17:51.290304Z",
     "iopub.status.busy": "2025-10-30T19:17:51.289906Z",
     "iopub.status.idle": "2025-10-30T19:17:51.294408Z",
     "shell.execute_reply": "2025-10-30T19:17:51.293055Z",
     "shell.execute_reply.started": "2025-10-30T19:17:51.290281Z"
    },
    "id": "wwSqYFCmiJTt"
   },
   "outputs": [],
   "source": [
    "limit = 9  # Задане число"
   ]
  },
  {
   "cell_type": "code",
   "execution_count": 13,
   "metadata": {
    "execution": {
     "iopub.execute_input": "2025-10-30T19:20:59.030491Z",
     "iopub.status.busy": "2025-10-30T19:20:59.030157Z",
     "iopub.status.idle": "2025-10-30T19:20:59.034823Z",
     "shell.execute_reply": "2025-10-30T19:20:59.033780Z",
     "shell.execute_reply.started": "2025-10-30T19:20:59.030468Z"
    },
    "id": "-t-kC6mJqNVx"
   },
   "outputs": [
    {
     "name": "stdout",
     "output_type": "stream",
     "text": [
      "1\n",
      "2\n",
      "3\n",
      "4\n",
      "5\n",
      "6\n",
      "7\n",
      "8\n",
      "9\n",
      "Кінець розрахунку!\n"
     ]
    }
   ],
   "source": [
    "i = 1\n",
    "while(i<=limit):\n",
    "    print(i)\n",
    "    i+=1\n",
    "    if i > limit:\n",
    "        print('Кінець розрахунку!')\n",
    "    "
   ]
  },
  {
   "cell_type": "markdown",
   "metadata": {
    "id": "DlqunQnphZ9s"
   },
   "source": [
    "2. **Пошук першого парного числа.** Завдання:\n",
    "     - Створіть цикл `while`, щоб знайти перше парне число після заданого числа `start`.\n",
    "     - Знайдіть та виведіть перше парне число.\n"
   ]
  },
  {
   "cell_type": "code",
   "execution_count": 15,
   "metadata": {
    "execution": {
     "iopub.execute_input": "2025-10-30T19:23:54.361813Z",
     "iopub.status.busy": "2025-10-30T19:23:54.361415Z",
     "iopub.status.idle": "2025-10-30T19:23:54.366025Z",
     "shell.execute_reply": "2025-10-30T19:23:54.364357Z",
     "shell.execute_reply.started": "2025-10-30T19:23:54.361787Z"
    },
    "id": "3CC3-gNJiW6X"
   },
   "outputs": [],
   "source": [
    "start = 7  # Задане число"
   ]
  },
  {
   "cell_type": "code",
   "execution_count": 19,
   "metadata": {
    "execution": {
     "iopub.execute_input": "2025-10-30T19:25:48.427895Z",
     "iopub.status.busy": "2025-10-30T19:25:48.427569Z",
     "iopub.status.idle": "2025-10-30T19:25:48.433558Z",
     "shell.execute_reply": "2025-10-30T19:25:48.432205Z",
     "shell.execute_reply.started": "2025-10-30T19:25:48.427873Z"
    },
    "id": "5M8Ly9_Lj4-t"
   },
   "outputs": [
    {
     "name": "stdout",
     "output_type": "stream",
     "text": [
      "2\n"
     ]
    }
   ],
   "source": [
    "i = 1\n",
    "while(i<start):\n",
    "    if i % 2 == 0:\n",
    "        print(i)\n",
    "        break\n",
    "    i+= 1   "
   ]
  },
  {
   "cell_type": "markdown",
   "metadata": {
    "id": "OlhKezZYiQJ2"
   },
   "source": [
    "\n",
    "3. **Обчислення факторіалу.**   \n",
    "  Факторіал числа - це добуток всіх натуральних чисел від 1 до цього числа включно. Наприклад, факторіал числа 5 (позначається як 5!) дорівнює `1 * 2 * 3 * 4 * 5 = 120`.\n",
    "\n",
    "  Завдання:  \n",
    "      - Обчисліть факторіал заданого числа, використовуючи цикл `while`.  \n",
    "      - Задайте деяке число для обчислення факторіалу у змінній `num`.  \n",
    "      - Виведіть обчислений факторіал на екран.  \n"
   ]
  },
  {
   "cell_type": "code",
   "execution_count": 21,
   "metadata": {
    "execution": {
     "iopub.execute_input": "2025-10-30T20:12:08.449500Z",
     "iopub.status.busy": "2025-10-30T20:12:08.449041Z",
     "iopub.status.idle": "2025-10-30T20:12:08.455465Z",
     "shell.execute_reply": "2025-10-30T20:12:08.453589Z",
     "shell.execute_reply.started": "2025-10-30T20:12:08.449467Z"
    },
    "id": "s0JKm0Wtj5s9"
   },
   "outputs": [
    {
     "name": "stdout",
     "output_type": "stream",
     "text": [
      "120\n"
     ]
    }
   ],
   "source": [
    "num = 5\n",
    "i = 1\n",
    "factorial = 1\n",
    "while (i<=num):\n",
    "    factorial *= i\n",
    "    i+=1\n",
    "    \n",
    "print(factorial)"
   ]
  }
 ],
 "metadata": {
  "colab": {
   "provenance": []
  },
  "kernelspec": {
   "display_name": "Python 3 (ipykernel)",
   "language": "python",
   "name": "python3"
  },
  "language_info": {
   "codemirror_mode": {
    "name": "ipython",
    "version": 3
   },
   "file_extension": ".py",
   "mimetype": "text/x-python",
   "name": "python",
   "nbconvert_exporter": "python",
   "pygments_lexer": "ipython3",
   "version": "3.12.3"
  }
 },
 "nbformat": 4,
 "nbformat_minor": 4
}
