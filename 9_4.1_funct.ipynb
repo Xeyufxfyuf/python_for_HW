{
 "cells": [
  {
   "cell_type": "markdown",
   "metadata": {
    "id": "QtHabST6Ez_n"
   },
   "source": [
    "# Домашнє завдання до теми \"Functions\""
   ]
  },
  {
   "cell_type": "markdown",
   "metadata": {
    "id": "6pg_NzFq5_kO"
   },
   "source": [
    "1. Напишіть фукнцію `print_message`, яка виводить на екран \"Я програмую на Python💪\" і викличіть цю фукнцію 5 разів (найкраще це зробити в циклі).\n",
    "\n",
    "  **Увага**: фукнція має робити чітко лише зазначений функціонал. Наявність додаткового функціоналу і аргументів, які не потрібні для виконання безпосередньо завдання, буде вважатись помилкою."
   ]
  },
  {
   "cell_type": "code",
   "execution_count": 1,
   "metadata": {
    "execution": {
     "iopub.execute_input": "2025-10-31T10:53:09.024819Z",
     "iopub.status.busy": "2025-10-31T10:53:09.023432Z",
     "iopub.status.idle": "2025-10-31T10:53:09.035221Z",
     "shell.execute_reply": "2025-10-31T10:53:09.033303Z",
     "shell.execute_reply.started": "2025-10-31T10:53:09.024681Z"
    },
    "id": "RbXsfwI_D8ql"
   },
   "outputs": [
    {
     "name": "stdout",
     "output_type": "stream",
     "text": [
      "Я програмую на Python💪\n",
      "Я програмую на Python💪\n",
      "Я програмую на Python💪\n",
      "Я програмую на Python💪\n",
      "Я програмую на Python💪\n"
     ]
    }
   ],
   "source": [
    "def print_message():\n",
    "    print(\"Я програмую на Python💪\")\n",
    "\n",
    "for i in range(5):\n",
    "    print_message()\n",
    "    "
   ]
  },
  {
   "cell_type": "markdown",
   "metadata": {
    "id": "oyRpWRXWBL9N"
   },
   "source": [
    "2. Напишіть функцію `calculation` яка приймає на вхід 4 аргументи типу int - `a`, `b`, `c`, `d` і вертає результат обчислення такої формули: $ (a + b - c) * d $.\n",
    "\n",
    "  Викличте функцію на наступному наборі аргументів і виведіть результат на екран:\n",
    "  ```\n",
    "  a = 16\n",
    "  b = 4\n",
    "  c = 9\n",
    "  d = 3\n",
    "  ```"
   ]
  },
  {
   "cell_type": "code",
   "execution_count": 3,
   "metadata": {
    "execution": {
     "iopub.execute_input": "2025-10-31T10:58:47.170676Z",
     "iopub.status.busy": "2025-10-31T10:58:47.169533Z",
     "iopub.status.idle": "2025-10-31T10:58:47.183598Z",
     "shell.execute_reply": "2025-10-31T10:58:47.178601Z",
     "shell.execute_reply.started": "2025-10-31T10:58:47.170618Z"
    },
    "id": "Ggt2tx6kD-LS"
   },
   "outputs": [
    {
     "data": {
      "text/plain": [
       "33"
      ]
     },
     "execution_count": 3,
     "metadata": {},
     "output_type": "execute_result"
    }
   ],
   "source": [
    "a = 16\n",
    "b = 4\n",
    "c = 9\n",
    "d = 3\n",
    "\n",
    "def calculation(a: int, b: int, c: int, d: int) -> int:\n",
    "    return (a + b -c) * d\n",
    "\n",
    "calculation(a,b,c,d)    "
   ]
  },
  {
   "cell_type": "markdown",
   "metadata": {
    "id": "5hf1CbllDU_t"
   },
   "source": [
    "3. Напишіть функцію, яка додає до аргумента 15 і вертає результат додавання. Викличте функцію, передаючи в якості аргументів кожну з наступних змінних по черзі, і виведіть кожного разу результат на екран.\n",
    "```\n",
    "x = 9\n",
    "y = 14\n",
    "z = -19\n",
    "```"
   ]
  },
  {
   "cell_type": "code",
   "execution_count": 7,
   "metadata": {
    "execution": {
     "iopub.execute_input": "2025-10-31T11:03:08.584216Z",
     "iopub.status.busy": "2025-10-31T11:03:08.582984Z",
     "iopub.status.idle": "2025-10-31T11:03:08.610876Z",
     "shell.execute_reply": "2025-10-31T11:03:08.606677Z",
     "shell.execute_reply.started": "2025-10-31T11:03:08.584159Z"
    },
    "id": "GvEs_nUtD_Cd"
   },
   "outputs": [
    {
     "data": {
      "text/plain": [
       "24"
      ]
     },
     "execution_count": 7,
     "metadata": {},
     "output_type": "execute_result"
    }
   ],
   "source": [
    "x = 9\n",
    "y = 14\n",
    "z = -19\n",
    "\n",
    "def adding_fifteen(x: int) -> int:\n",
    "    return x + 15\n",
    "\n",
    "adding_fifteen(x)"
   ]
  },
  {
   "cell_type": "code",
   "execution_count": 8,
   "metadata": {
    "execution": {
     "iopub.execute_input": "2025-10-31T11:03:09.410759Z",
     "iopub.status.busy": "2025-10-31T11:03:09.410188Z",
     "iopub.status.idle": "2025-10-31T11:03:09.418051Z",
     "shell.execute_reply": "2025-10-31T11:03:09.416562Z",
     "shell.execute_reply.started": "2025-10-31T11:03:09.410715Z"
    }
   },
   "outputs": [
    {
     "data": {
      "text/plain": [
       "29"
      ]
     },
     "execution_count": 8,
     "metadata": {},
     "output_type": "execute_result"
    }
   ],
   "source": [
    "adding_fifteen(y)"
   ]
  },
  {
   "cell_type": "code",
   "execution_count": 9,
   "metadata": {
    "execution": {
     "iopub.execute_input": "2025-10-31T11:03:10.176669Z",
     "iopub.status.busy": "2025-10-31T11:03:10.176309Z",
     "iopub.status.idle": "2025-10-31T11:03:10.182145Z",
     "shell.execute_reply": "2025-10-31T11:03:10.180786Z",
     "shell.execute_reply.started": "2025-10-31T11:03:10.176645Z"
    }
   },
   "outputs": [
    {
     "data": {
      "text/plain": [
       "-4"
      ]
     },
     "execution_count": 9,
     "metadata": {},
     "output_type": "execute_result"
    }
   ],
   "source": [
    "adding_fifteen(z)"
   ]
  },
  {
   "cell_type": "markdown",
   "metadata": {
    "id": "bUuVBhie53uK"
   },
   "source": [
    "4. Напишіть функцію `multipy_numbers`, яка приймає два числа як аргументи і повертає їх добуток.\n",
    "\n",
    "  Викличіть функцію `multipy_numbers` на парах чисел\n",
    "- 10 і 2\n",
    "- 7 і 8\n",
    "- 1024 і 999.\n",
    "  \n",
    "  Виведіть результат кожного виклику.\n",
    "  При виконанні цього завдання з використанням циклу - отримаєте 2х балів за нього :)"
   ]
  },
  {
   "cell_type": "code",
   "execution_count": 12,
   "metadata": {
    "execution": {
     "iopub.execute_input": "2025-10-31T11:11:16.022030Z",
     "iopub.status.busy": "2025-10-31T11:11:16.021016Z",
     "iopub.status.idle": "2025-10-31T11:11:16.037422Z",
     "shell.execute_reply": "2025-10-31T11:11:16.036162Z",
     "shell.execute_reply.started": "2025-10-31T11:11:16.021982Z"
    },
    "id": "cDqrgZ4YEAKj"
   },
   "outputs": [
    {
     "name": "stdout",
     "output_type": "stream",
     "text": [
      "20\n",
      "56\n",
      "1022976\n"
     ]
    }
   ],
   "source": [
    "def multipy_numbers (x: int, y: int) -> int:\n",
    "    return x*y\n",
    "\n",
    "my_dict = {10:2, 7:8, 1024: 999}\n",
    "\n",
    "for key, value in my_dict.items():\n",
    "    print(multipy_numbers(key, value))"
   ]
  },
  {
   "cell_type": "markdown",
   "metadata": {
    "id": "I03t46k27dDZ"
   },
   "source": [
    "5. **Ділення з перевіркою типів.**  \n",
    "\n",
    "  1. Напишіть функцію `int_division` яка приймає на вхід два аргументи типу `int` - `a` і `b`, і виконує ділення першого аргумента на другий: `a/b`. При цьому функція перед діленням перевіряє, чи другий аргумент не дорівнює 0. Якщо другий аргумент не 0, фукнція вертає результат ділення, інакше - замість виконання ділення, вертає повідомлення на екран \"Не можу виконати ділення на 0\".\n",
    "\n",
    "    Якщо типи, надані у функцію, не `int` - функція виводить повідомлення \"Не працюю з такими типами даних.\".\n",
    "\n",
    "  2. Запустіть функцію на наступних парах чисел:\n",
    "- 12 і 6\n",
    "- 20 і 0\n",
    "- 112 і 10\n",
    "- 99 і 0\n",
    "- 11 i 1.1\n",
    "\n",
    "    і виведіть на екран повідомлення \"Результат роботи функції: \" - і далі те, що повернула функція.\n",
    "\n",
    "  3. Дайте відповідь на питання: \"Чому в деяких випадках функція повернула None?\""
   ]
  },
  {
   "cell_type": "code",
   "execution_count": 45,
   "metadata": {
    "execution": {
     "iopub.execute_input": "2025-10-31T12:32:11.177437Z",
     "iopub.status.busy": "2025-10-31T12:32:11.176301Z",
     "iopub.status.idle": "2025-10-31T12:32:11.203985Z",
     "shell.execute_reply": "2025-10-31T12:32:11.200922Z",
     "shell.execute_reply.started": "2025-10-31T12:32:11.177390Z"
    },
    "id": "1-EQhxrAEEAb"
   },
   "outputs": [
    {
     "name": "stdout",
     "output_type": "stream",
     "text": [
      "Результат роботи функції: 2.0\n",
      "Результат роботи функції: Не можу виконати ділення на 0\n",
      "Результат роботи функції: 11.2\n",
      "Результат роботи функції: Не можу виконати ділення на 0\n",
      "Не працюю з такими типами даних.\n",
      "Результат роботи функції: None\n"
     ]
    }
   ],
   "source": [
    "def int_division (a: int, b: int) -> int:\n",
    "    if not (isinstance(a, int) and isinstance(b, int)):\n",
    "        print(\"Не працюю з такими типами даних.\")\n",
    "        return\n",
    "    elif b != 0:\n",
    "        return a/b\n",
    "    else:\n",
    "        return (\"Не можу виконати ділення на 0\")\n",
    "\n",
    "pairs_division = [(12,6), (20,0), (112,10), (99,0), (11,1.1)]\n",
    "\n",
    "for a, b in pairs_division:\n",
    "    result = int_division(a, b)\n",
    "    print(f\"Результат роботи функції: {result}\")\n"
   ]
  },
  {
   "cell_type": "markdown",
   "metadata": {
    "id": "I03t46k27dDZ"
   },
   "source": [
    "Тому що аргументи неправильного типу тож функція не поверне значення явно, тому за замовчуванням вона поверне None"
   ]
  }
 ],
 "metadata": {
  "colab": {
   "provenance": []
  },
  "kernelspec": {
   "display_name": "Python 3 (ipykernel)",
   "language": "python",
   "name": "python3"
  },
  "language_info": {
   "codemirror_mode": {
    "name": "ipython",
    "version": 3
   },
   "file_extension": ".py",
   "mimetype": "text/x-python",
   "name": "python",
   "nbconvert_exporter": "python",
   "pygments_lexer": "ipython3",
   "version": "3.12.3"
  }
 },
 "nbformat": 4,
 "nbformat_minor": 4
}
